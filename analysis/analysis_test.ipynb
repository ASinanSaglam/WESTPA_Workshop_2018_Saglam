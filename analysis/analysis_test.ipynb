{
 "cells": [
  {
   "cell_type": "code",
   "execution_count": 1,
   "metadata": {},
   "outputs": [
    {
     "name": "stderr",
     "output_type": "stream",
     "text": [
      "/home/boltzmann/apps/anaconda/lib/python2.7/site-packages/h5py/__init__.py:36: FutureWarning: Conversion of the second argument of issubdtype from `float` to `np.floating` is deprecated. In future, it will be treated as `np.float64 == np.dtype(float).type`.\n",
      "  from ._conv import register_converters as _register_converters\n",
      "/home/boltzmann/apps/anaconda/lib/python2.7/site-packages/pyemma/__init__.py:134: UserWarning: Python 2.7 usage is deprecated. Future versions of PyEMMA will not support it. Please upgrade your Python installation.\n",
      "  \"Please upgrade your Python installation.\", category=UserWarning)\n"
     ]
    }
   ],
   "source": [
    "import IPython\n",
    "import pickle, h5py, sys\n",
    "import numpy as np\n",
    "import networkx as nx\n",
    "import pyemma as pe\n",
    "import analysis_helper as ahelper\n",
    "np.set_printoptions(precision=2)"
   ]
  },
  {
   "cell_type": "code",
   "execution_count": 2,
   "metadata": {},
   "outputs": [],
   "source": [
    "h = h5py.File('pre_prepped_results/west.h5')"
   ]
  },
  {
   "cell_type": "code",
   "execution_count": 3,
   "metadata": {},
   "outputs": [],
   "source": [
    "a = h5py.File('pre_prepped_results/assign.h5')"
   ]
  },
  {
   "cell_type": "code",
   "execution_count": 4,
   "metadata": {},
   "outputs": [
    {
     "name": "stdout",
     "output_type": "stream",
     "text": [
      "[[5.28e-03 1.80e-04 9.16e-05 ... 0.00e+00 3.53e-05 2.46e-05]\n",
      " [1.85e-04 4.03e-03 4.35e-05 ... 0.00e+00 0.00e+00 9.14e-04]\n",
      " [2.47e-05 0.00e+00 2.81e-03 ... 1.75e-05 0.00e+00 0.00e+00]\n",
      " ...\n",
      " [0.00e+00 4.58e-05 2.00e-05 ... 7.62e-05 0.00e+00 2.71e-06]\n",
      " [6.27e-05 3.51e-06 0.00e+00 ... 0.00e+00 0.00e+00 0.00e+00]\n",
      " [8.30e-05 1.56e-03 0.00e+00 ... 2.43e-05 0.00e+00 1.92e-04]]\n"
     ]
    }
   ],
   "source": [
    "tm = np.load('pre_prepped_results/tm.npy')\n",
    "tm = tm[1:,:][:,1:]\n",
    "print(tm)\n",
    "# TODO: Write a plotting function to plot the matrix and show how symmetrizing changes things"
   ]
  },
  {
   "cell_type": "code",
   "execution_count": 5,
   "metadata": {},
   "outputs": [
    {
     "name": "stdout",
     "output_type": "stream",
     "text": [
      "[[1.18e-01 4.07e-03 1.29e-03 ... 0.00e+00 1.09e-03 1.20e-03]\n",
      " [3.36e-03 7.41e-02 4.00e-04 ... 4.22e-04 3.23e-05 2.28e-02]\n",
      " [1.33e-03 4.99e-04 6.45e-02 ... 4.30e-04 0.00e+00 0.00e+00]\n",
      " ...\n",
      " [0.00e+00 4.65e-03 3.80e-03 ... 1.54e-02 0.00e+00 2.74e-03]\n",
      " [1.09e-01 3.89e-03 0.00e+00 ... 0.00e+00 0.00e+00 0.00e+00]\n",
      " [4.74e-03 1.09e-01 0.00e+00 ... 1.19e-03 0.00e+00 1.69e-02]]\n"
     ]
    }
   ],
   "source": [
    "stm = ahelper.symmetrize(tm)\n",
    "ntm = ahelper.row_normalize(stm)\n",
    "print(ntm)"
   ]
  },
  {
   "cell_type": "code",
   "execution_count": 6,
   "metadata": {},
   "outputs": [
    {
     "name": "stdout",
     "output_type": "stream",
     "text": [
      "[0.1  0.17 0.34 0.39]\n"
     ]
    }
   ],
   "source": [
    "MSM = pe.msm.MSM(ntm, reversible=True)\n",
    "pcca = MSM.pcca(4)\n",
    "p = pcca.coarse_grained_stationary_probability\n",
    "ctm = pcca.coarse_grained_transition_matrix\n",
    "print(p)"
   ]
  },
  {
   "cell_type": "code",
   "execution_count": 7,
   "metadata": {},
   "outputs": [
    {
     "name": "stdout",
     "output_type": "stream",
     "text": [
      "[[0.62 0.01 0.2  0.17]\n",
      " [0.01 0.86 0.06 0.07]\n",
      " [0.06 0.03 0.9  0.01]\n",
      " [0.05 0.03 0.   0.92]]\n"
     ]
    }
   ],
   "source": [
    "print(ctm)"
   ]
  },
  {
   "cell_type": "code",
   "execution_count": 8,
   "metadata": {},
   "outputs": [],
   "source": [
    "mstable_assign = pcca.metastable_assignment"
   ]
  },
  {
   "cell_type": "code",
   "execution_count": 9,
   "metadata": {},
   "outputs": [
    {
     "name": "stdout",
     "output_type": "stream",
     "text": [
      "metastab 0\n",
      "[4.08 3.5  0.5  0.08 0.42 0.5  0.   0.5 ]\n",
      "metastab 1\n",
      "[21.76 21.49  0.    1.    0.    0.    1.    0.  ]\n",
      "metastab 2\n",
      "[21.84  4.64  0.    0.96  0.04  0.2   0.12  0.68]\n",
      "metastab 3\n",
      "[ 4.92 20.72  0.2   0.08  0.72  0.    0.96  0.04]\n"
     ]
    }
   ],
   "source": [
    "bin_labels = ahelper.get_bin_labels(a)\n",
    "\n",
    "print(\"metastab 0\")\n",
    "print(bin_labels[mstable_assign.T==0].mean(axis=0))\n",
    "print(\"metastab 1\")\n",
    "print(bin_labels[mstable_assign.T==1].mean(axis=0))\n",
    "print(\"metastab 2\")\n",
    "print(bin_labels[mstable_assign.T==2].mean(axis=0))\n",
    "print(\"metastab 3\")\n",
    "print(bin_labels[mstable_assign.T==3].mean(axis=0))"
   ]
  },
  {
   "cell_type": "code",
   "execution_count": null,
   "metadata": {},
   "outputs": [],
   "source": [
    "# TODO: Write a tool to plot network graphs, turn both the full matrix and the coarse matrix to graphs and plot both"
   ]
  }
 ],
 "metadata": {
  "kernelspec": {
   "display_name": "Python 2",
   "language": "python",
   "name": "python2"
  },
  "language_info": {
   "codemirror_mode": {
    "name": "ipython",
    "version": 2
   },
   "file_extension": ".py",
   "mimetype": "text/x-python",
   "name": "python",
   "nbconvert_exporter": "python",
   "pygments_lexer": "ipython2",
   "version": "2.7.15"
  }
 },
 "nbformat": 4,
 "nbformat_minor": 2
}
